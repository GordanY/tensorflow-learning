{
  "nbformat": 4,
  "nbformat_minor": 0,
  "metadata": {
    "colab": {
      "name": "Linear_regression.ipynb",
      "provenance": [],
      "authorship_tag": "ABX9TyPOAJK61n2yKqWk9qnzoI2x",
      "include_colab_link": true
    },
    "kernelspec": {
      "name": "python3",
      "display_name": "Python 3"
    },
    "accelerator": "TPU"
  },
  "cells": [
    {
      "cell_type": "markdown",
      "metadata": {
        "id": "view-in-github",
        "colab_type": "text"
      },
      "source": [
        "<a href=\"https://colab.research.google.com/github/GordanY/tensorflow-learning/blob/master/Linear_regression.ipynb\" target=\"_parent\"><img src=\"https://colab.research.google.com/assets/colab-badge.svg\" alt=\"Open In Colab\"/></a>"
      ]
    },
    {
      "cell_type": "markdown",
      "metadata": {
        "id": "TTnBgICkyc-b",
        "colab_type": "text"
      },
      "source": [
        "## A simple illustration on tensorflow structure by single variable linear regression\n",
        "True model: `y = 1 + 2x`\n"
      ]
    },
    {
      "cell_type": "code",
      "metadata": {
        "id": "ZERy6rasuSVx",
        "colab_type": "code",
        "colab": {}
      },
      "source": [
        "import tensorflow as tf\n",
        "import math\n",
        "import numpy as np\n",
        "import matplotlib.pyplot as plt"
      ],
      "execution_count": null,
      "outputs": []
    },
    {
      "cell_type": "markdown",
      "metadata": {
        "id": "JuNFE_Aq2Gko",
        "colab_type": "text"
      },
      "source": [
        "## Get the sample"
      ]
    },
    {
      "cell_type": "markdown",
      "metadata": {
        "id": "1GYaFjZSy8l3",
        "colab_type": "text"
      },
      "source": [
        "> Here we generate 50 samples"
      ]
    },
    {
      "cell_type": "code",
      "metadata": {
        "id": "L727GN-lucYZ",
        "colab_type": "code",
        "colab": {}
      },
      "source": [
        "x = np.linspace(0, 50, 50)\n",
        "y = np.linspace(1, 1, 50) + 2*x + np.random.uniform(-5, 5, 50)"
      ],
      "execution_count": null,
      "outputs": []
    },
    {
      "cell_type": "markdown",
      "metadata": {
        "id": "9FfCrzBL0qSK",
        "colab_type": "text"
      },
      "source": [
        "> Illustration of the sample sets"
      ]
    },
    {
      "cell_type": "code",
      "metadata": {
        "id": "oq1bcMHm18BK",
        "colab_type": "code",
        "colab": {}
      },
      "source": [
        "plt.plot(x, y)"
      ],
      "execution_count": null,
      "outputs": []
    },
    {
      "cell_type": "markdown",
      "metadata": {
        "id": "7jcOReLW1_dh",
        "colab_type": "text"
      },
      "source": [
        "## Train the model"
      ]
    },
    {
      "cell_type": "markdown",
      "metadata": {
        "id": "tL1ra4UNzAX2",
        "colab_type": "text"
      },
      "source": [
        "> The structure of network, only 1 Dense layer, take 1 input (input_shape = [1]), and 1 output (units = 1)\n",
        "\n",
        "> In fact, to define a line, we need 2 parameters, but one (the interception) is considered as a bias, which comes with the slope paramemters, therefore, we only need 1 output (slope) to define the whole layer, instead of 2"
      ]
    },
    {
      "cell_type": "code",
      "metadata": {
        "id": "X51o-Dg7vowG",
        "colab_type": "code",
        "colab": {}
      },
      "source": [
        "model = tf.keras.Sequential([\n",
        "                             tf.keras.layers.Dense(units = 1, input_shape = [1])\n",
        "])\n",
        "model.compile(loss='mean_squared_error',\n",
        "              optimizer=tf.keras.optimizers.Adam(0.1))"
      ],
      "execution_count": null,
      "outputs": []
    },
    {
      "cell_type": "markdown",
      "metadata": {
        "id": "KiRxMpdh1uf-",
        "colab_type": "text"
      },
      "source": [
        "> This is the step we really train the model"
      ]
    },
    {
      "cell_type": "code",
      "metadata": {
        "id": "6x6ybqXSwvDI",
        "colab_type": "code",
        "colab": {}
      },
      "source": [
        "history = model.fit(x, y, epochs=500, verbose=False)\n"
      ],
      "execution_count": null,
      "outputs": []
    },
    {
      "cell_type": "markdown",
      "metadata": {
        "id": "K3a_AgXw0I9I",
        "colab_type": "text"
      },
      "source": [
        "> How loss value decline as epochs go"
      ]
    },
    {
      "cell_type": "code",
      "metadata": {
        "id": "OZkJSyiLw2-U",
        "colab_type": "code",
        "colab": {
          "base_uri": "https://localhost:8080/",
          "height": 299
        },
        "outputId": "b66e697a-98c7-4fa5-8f0c-971b2072dd08"
      },
      "source": [
        "plt.xlabel('Epoch Number')\n",
        "plt.ylabel(\"Loss Magnitude\")\n",
        "plt.plot(history.history['loss'])"
      ],
      "execution_count": null,
      "outputs": [
        {
          "output_type": "execute_result",
          "data": {
            "text/plain": [
              "[<matplotlib.lines.Line2D at 0x7fe9c692d3c8>]"
            ]
          },
          "metadata": {
            "tags": []
          },
          "execution_count": 12
        },
        {
          "output_type": "display_data",
          "data": {
            "image/png": "[encoded data removed]",
            "text/plain": [
              "<Figure size 432x288 with 1 Axes>"
            ]
          },
          "metadata": {
            "tags": [],
            "needs_background": "light"
          }
        }
      ]
    },
    {
      "cell_type": "markdown",
      "metadata": {
        "id": "8GG2DLXH2Kpb",
        "colab_type": "text"
      },
      "source": [
        "## Result"
      ]
    },
    {
      "cell_type": "markdown",
      "metadata": {
        "id": "tqMcbXEd0PFi",
        "colab_type": "text"
      },
      "source": [
        "> Get the predicted model, first is slope, second is bias (interception)\n",
        "\n",
        "> it predicts `y = 1.98x + 1.43`\n",
        "\n",
        "> It has such interpretion only becasuse we used 1 layer (with 1 input and 1 output) only, i.e. y and x is connected by 1 single parameter directly with a biaas.\n",
        "\n",
        "> if 2 or more layers are used, then the model loss the \"shape\" of a straight line (y = mx + c)"
      ]
    },
    {
      "cell_type": "code",
      "metadata": {
        "id": "70kECziHxRxT",
        "colab_type": "code",
        "colab": {
          "base_uri": "https://localhost:8080/",
          "height": 54
        },
        "outputId": "a2ac297d-7924-44b3-fa00-6252d824fa01"
      },
      "source": [
        "print(\"These are the layer variables: {}\".format(model.get_weights()))"
      ],
      "execution_count": null,
      "outputs": [
        {
          "output_type": "stream",
          "text": [
            "These are the layer variables: [array([[1.981833]], dtype=float32), array([1.4317994], dtype=float32)]\n"
          ],
          "name": "stdout"
        }
      ]
    },
    {
      "cell_type": "markdown",
      "metadata": {
        "id": "7ujFdhfP0byv",
        "colab_type": "text"
      },
      "source": [
        "> Use the model to make preduction of `x = -10`"
      ]
    },
    {
      "cell_type": "code",
      "metadata": {
        "id": "llqdYfwExvv2",
        "colab_type": "code",
        "colab": {
          "base_uri": "https://localhost:8080/",
          "height": 34
        },
        "outputId": "8af713b5-37c0-4692-e769-3e25c8dbcdf8"
      },
      "source": [
        "model.predict([-10])"
      ],
      "execution_count": null,
      "outputs": [
        {
          "output_type": "execute_result",
          "data": {
            "text/plain": [
              "array([[-18.38653]], dtype=float32)"
            ]
          },
          "metadata": {
            "tags": []
          },
          "execution_count": 17
        }
      ]
    }
  ]
}