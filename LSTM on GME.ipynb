{
  "nbformat": 4,
  "nbformat_minor": 0,
  "metadata": {
    "kernelspec": {
      "display_name": "Python 3",
      "language": "python",
      "name": "python3"
    },
    "language_info": {
      "codemirror_mode": {
        "name": "ipython",
        "version": 3
      },
      "file_extension": ".py",
      "mimetype": "text/x-python",
      "name": "python",
      "nbconvert_exporter": "python",
      "pygments_lexer": "ipython3",
      "version": "3.8.5"
    },
    "colab": {
      "name": "LSTM on GME.ipynb",
      "provenance": []
    },
    "accelerator": "TPU"
  },
  "cells": [
    {
      "cell_type": "markdown",
      "metadata": {
        "id": "u-0XHnE9ayQe"
      },
      "source": [
        "# Implementation of LSTM on GME hourly data"
      ]
    },
    {
      "cell_type": "markdown",
      "metadata": {
        "id": "XRLOdxCnayQk"
      },
      "source": [
        "## 1. importing required packages"
      ]
    },
    {
      "cell_type": "code",
      "metadata": {
        "id": "4y7pDSYCbACx",
        "outputId": "fe564296-01b6-4a6a-dddb-eab306b3d7b8",
        "colab": {
          "base_uri": "https://localhost:8080/"
        }
      },
      "source": [
        "pip install yfinance"
      ],
      "execution_count": 3,
      "outputs": [
        {
          "output_type": "stream",
          "text": [
            "Collecting yfinance\n",
            "  Downloading https://files.pythonhosted.org/packages/7a/e8/b9d7104d3a4bf39924799067592d9e59119fcfc900a425a12e80a3123ec8/yfinance-0.1.55.tar.gz\n",
            "Requirement already satisfied: pandas>=0.24 in /usr/local/lib/python3.6/dist-packages (from yfinance) (1.1.5)\n",
            "Requirement already satisfied: numpy>=1.15 in /usr/local/lib/python3.6/dist-packages (from yfinance) (1.19.5)\n",
            "Requirement already satisfied: requests>=2.20 in /usr/local/lib/python3.6/dist-packages (from yfinance) (2.23.0)\n",
            "Requirement already satisfied: multitasking>=0.0.7 in /usr/local/lib/python3.6/dist-packages (from yfinance) (0.0.9)\n",
            "Collecting lxml>=4.5.1\n",
            "\u001b[?25l  Downloading https://files.pythonhosted.org/packages/bd/78/56a7c88a57d0d14945472535d0df9fb4bbad7d34ede658ec7961635c790e/lxml-4.6.2-cp36-cp36m-manylinux1_x86_64.whl (5.5MB)\n",
            "\u001b[K     |████████████████████████████████| 5.5MB 8.1MB/s \n",
            "\u001b[?25hRequirement already satisfied: pytz>=2017.2 in /usr/local/lib/python3.6/dist-packages (from pandas>=0.24->yfinance) (2018.9)\n",
            "Requirement already satisfied: python-dateutil>=2.7.3 in /usr/local/lib/python3.6/dist-packages (from pandas>=0.24->yfinance) (2.8.1)\n",
            "Requirement already satisfied: chardet<4,>=3.0.2 in /usr/local/lib/python3.6/dist-packages (from requests>=2.20->yfinance) (3.0.4)\n",
            "Requirement already satisfied: certifi>=2017.4.17 in /usr/local/lib/python3.6/dist-packages (from requests>=2.20->yfinance) (2020.12.5)\n",
            "Requirement already satisfied: idna<3,>=2.5 in /usr/local/lib/python3.6/dist-packages (from requests>=2.20->yfinance) (2.10)\n",
            "Requirement already satisfied: urllib3!=1.25.0,!=1.25.1,<1.26,>=1.21.1 in /usr/local/lib/python3.6/dist-packages (from requests>=2.20->yfinance) (1.24.3)\n",
            "Requirement already satisfied: six>=1.5 in /usr/local/lib/python3.6/dist-packages (from python-dateutil>=2.7.3->pandas>=0.24->yfinance) (1.15.0)\n",
            "Building wheels for collected packages: yfinance\n",
            "  Building wheel for yfinance (setup.py) ... \u001b[?25l\u001b[?25hdone\n",
            "  Created wheel for yfinance: filename=yfinance-0.1.55-py2.py3-none-any.whl size=22616 sha256=2f2879a13df48668cbdc4d3879d95ebcf99a6409f8675cdd33dc21f5b9c26238\n",
            "  Stored in directory: /root/.cache/pip/wheels/04/98/cc/2702a4242d60bdc14f48b4557c427ded1fe92aedf257d4565c\n",
            "Successfully built yfinance\n",
            "Installing collected packages: lxml, yfinance\n",
            "  Found existing installation: lxml 4.2.6\n",
            "    Uninstalling lxml-4.2.6:\n",
            "      Successfully uninstalled lxml-4.2.6\n",
            "Successfully installed lxml-4.6.2 yfinance-0.1.55\n"
          ],
          "name": "stdout"
        }
      ]
    },
    {
      "cell_type": "code",
      "metadata": {
        "id": "4S5VBLr1ayQl"
      },
      "source": [
        "import pandas as pd\n",
        "import yfinance as yf\n",
        "import numpy as np\n",
        "import matplotlib.pyplot as plt\n",
        "%matplotlib inline\n",
        "from matplotlib.pylab import rcParams\n",
        "rcParams['figure.figsize']=20,10\n",
        "from keras.models import Sequential\n",
        "from keras.layers import LSTM,Dropout,Dense\n",
        "from sklearn.preprocessing import MinMaxScaler"
      ],
      "execution_count": 4,
      "outputs": []
    },
    {
      "cell_type": "markdown",
      "metadata": {
        "id": "cCQ12YIrayQm"
      },
      "source": [
        "## 2. importing stock data using yahoo! finance API"
      ]
    },
    {
      "cell_type": "code",
      "metadata": {
        "id": "nhnza6wdayQm",
        "outputId": "83fdefbe-8321-4c81-e68b-d8f26818f1ff",
        "colab": {
          "base_uri": "https://localhost:8080/",
          "height": 588
        }
      },
      "source": [
        "data = yf.download('GME', start = '2019-02-01', interval = '1h', end = '2021-01-27', progress = False)[['Close']]\n",
        "data.head()\n",
        "  \n",
        "data.plot(figsize = (10, 10))"
      ],
      "execution_count": 5,
      "outputs": [
        {
          "output_type": "execute_result",
          "data": {
            "text/plain": [
              "<matplotlib.axes._subplots.AxesSubplot at 0x7f8cdf3f8ba8>"
            ]
          },
          "metadata": {
            "tags": []
          },
          "execution_count": 5
        },
        {
          "output_type": "display_data",
          "data": {
            "image/png": "[encoded data removed]",
            "text/plain": [
              "<Figure size 720x720 with 1 Axes>"
            ]
          },
          "metadata": {
            "tags": [],
            "needs_background": "light"
          }
        }
      ]
    },
    {
      "cell_type": "code",
      "metadata": {
        "id": "P1TCh9CyayQo",
        "outputId": "db0c3ce6-cd19-47e3-850a-1b259b356e4d",
        "colab": {
          "base_uri": "https://localhost:8080/",
          "height": 235
        }
      },
      "source": [
        "data.tail()"
      ],
      "execution_count": 7,
      "outputs": [
        {
          "output_type": "execute_result",
          "data": {
            "text/html": [
              "<div>\n",
              "<style scoped>\n",
              "    .dataframe tbody tr th:only-of-type {\n",
              "        vertical-align: middle;\n",
              "    }\n",
              "\n",
              "    .dataframe tbody tr th {\n",
              "        vertical-align: top;\n",
              "    }\n",
              "\n",
              "    .dataframe thead th {\n",
              "        text-align: right;\n",
              "    }\n",
              "</style>\n",
              "<table border=\"1\" class=\"dataframe\">\n",
              "  <thead>\n",
              "    <tr style=\"text-align: right;\">\n",
              "      <th></th>\n",
              "      <th>Close</th>\n",
              "    </tr>\n",
              "    <tr>\n",
              "      <th>Date</th>\n",
              "      <th></th>\n",
              "    </tr>\n",
              "  </thead>\n",
              "  <tbody>\n",
              "    <tr>\n",
              "      <th>2021-01-26</th>\n",
              "      <td>112.010002</td>\n",
              "    </tr>\n",
              "    <tr>\n",
              "      <th>2021-01-26</th>\n",
              "      <td>122.190002</td>\n",
              "    </tr>\n",
              "    <tr>\n",
              "      <th>2021-01-26</th>\n",
              "      <td>148.380005</td>\n",
              "    </tr>\n",
              "    <tr>\n",
              "      <th>2021-01-26</th>\n",
              "      <td>136.360001</td>\n",
              "    </tr>\n",
              "    <tr>\n",
              "      <th>2021-01-26</th>\n",
              "      <td>132.330002</td>\n",
              "    </tr>\n",
              "  </tbody>\n",
              "</table>\n",
              "</div>"
            ],
            "text/plain": [
              "                 Close\n",
              "Date                  \n",
              "2021-01-26  112.010002\n",
              "2021-01-26  122.190002\n",
              "2021-01-26  148.380005\n",
              "2021-01-26  136.360001\n",
              "2021-01-26  132.330002"
            ]
          },
          "metadata": {
            "tags": []
          },
          "execution_count": 7
        }
      ]
    },
    {
      "cell_type": "markdown",
      "metadata": {
        "id": "QNhY8TQPayQp"
      },
      "source": [
        "## 3. preparing dataset with 60:40 train-to-test ratio"
      ]
    },
    {
      "cell_type": "code",
      "metadata": {
        "id": "M33vEsbyayQp"
      },
      "source": [
        "prop_train = 0.6\n",
        "\n",
        "cl = data.Close.astype('float32')\n",
        "train = cl[0:int(len(cl)*prop_train)]\n",
        "scl = MinMaxScaler()"
      ],
      "execution_count": 8,
      "outputs": []
    },
    {
      "cell_type": "code",
      "metadata": {
        "id": "n50IfIN3ayQp"
      },
      "source": [
        "scl.fit(train.values.reshape(-1,1))\n",
        "cl = scl.transform(cl.values.reshape(-1,1))"
      ],
      "execution_count": 9,
      "outputs": []
    },
    {
      "cell_type": "code",
      "metadata": {
        "id": "RB-Hik6OayQq"
      },
      "source": [
        "def processData(data, lb):\n",
        "    X,Y = [],[]\n",
        "    for i in range(len(data)-lb-1):\n",
        "        X.append(data[i:(i+lb), 0])\n",
        "        Y.append(data[(i+lb), 0])\n",
        "    return np.array(X), np.array(Y)\n",
        " \n",
        " \n",
        "lb = 20\n",
        "X, y = processData(cl,lb)\n",
        "X_train,X_test = X[:int(X.shape[0]*prop_train)], X[int(X.shape[0]*prop_train):]\n",
        "y_train,y_test = y[:int(y.shape[0]*prop_train)], y[int(y.shape[0]*prop_train):]"
      ],
      "execution_count": 10,
      "outputs": []
    },
    {
      "cell_type": "markdown",
      "metadata": {
        "id": "7FxTHb8nayQq"
      },
      "source": [
        "## 4. train the model, look back window = 20"
      ]
    },
    {
      "cell_type": "code",
      "metadata": {
        "id": "pWKRWFu9ayQq",
        "outputId": "046f2299-c3c2-49e0-e227-d3b447c55d0d",
        "colab": {
          "base_uri": "https://localhost:8080/"
        }
      },
      "source": [
        "#Build the model\n",
        "model = Sequential()\n",
        "model.add(LSTM(256,input_shape=(lb,1)))\n",
        "model.add(Dense(1))\n",
        "model.compile(optimizer='adam',loss='mse')\n",
        " \n",
        "#Reshape data for (Sample,Timestep,Features) \n",
        "X_train = X_train.reshape((X_train.shape[0],X_train.shape[1],1))\n",
        "X_test = X_test.reshape((X_test.shape[0],X_test.shape[1],1))\n",
        " \n",
        "#Fit model with history to check for overfitting\n",
        "history = model.fit(X_train,y_train,epochs=50,validation_data=(X_test,y_test),shuffle=False)\n",
        " \n",
        "model.summary() "
      ],
      "execution_count": 11,
      "outputs": [
        {
          "output_type": "stream",
          "text": [
            "Epoch 1/50\n",
            "65/65 [==============================] - 10s 119ms/step - loss: 0.1069 - val_loss: 0.6675\n",
            "Epoch 2/50\n",
            "65/65 [==============================] - 7s 102ms/step - loss: 0.0072 - val_loss: 0.6460\n",
            "Epoch 3/50\n",
            "65/65 [==============================] - 7s 104ms/step - loss: 0.0059 - val_loss: 0.6065\n",
            "Epoch 4/50\n",
            "65/65 [==============================] - 7s 102ms/step - loss: 0.0034 - val_loss: 0.5757\n",
            "Epoch 5/50\n",
            "65/65 [==============================] - 6s 100ms/step - loss: 0.0017 - val_loss: 0.5686\n",
            "Epoch 6/50\n",
            "65/65 [==============================] - 6s 100ms/step - loss: 0.0015 - val_loss: 0.5760\n",
            "Epoch 7/50\n",
            "65/65 [==============================] - 7s 100ms/step - loss: 0.0020 - val_loss: 0.5849\n",
            "Epoch 8/50\n",
            "65/65 [==============================] - 7s 102ms/step - loss: 0.0026 - val_loss: 0.5917\n",
            "Epoch 9/50\n",
            "65/65 [==============================] - 7s 101ms/step - loss: 0.0031 - val_loss: 0.5929\n",
            "Epoch 10/50\n",
            "65/65 [==============================] - 7s 103ms/step - loss: 0.0032 - val_loss: 0.5890\n",
            "Epoch 11/50\n",
            "65/65 [==============================] - 7s 102ms/step - loss: 0.0030 - val_loss: 0.5835\n",
            "Epoch 12/50\n",
            "65/65 [==============================] - 7s 102ms/step - loss: 0.0027 - val_loss: 0.5789\n",
            "Epoch 13/50\n",
            "65/65 [==============================] - 7s 102ms/step - loss: 0.0025 - val_loss: 0.5754\n",
            "Epoch 14/50\n",
            "65/65 [==============================] - 7s 106ms/step - loss: 0.0024 - val_loss: 0.5724\n",
            "Epoch 15/50\n",
            "65/65 [==============================] - 7s 103ms/step - loss: 0.0023 - val_loss: 0.5696\n",
            "Epoch 16/50\n",
            "65/65 [==============================] - 6s 98ms/step - loss: 0.0023 - val_loss: 0.5672\n",
            "Epoch 17/50\n",
            "65/65 [==============================] - 6s 99ms/step - loss: 0.0022 - val_loss: 0.5653\n",
            "Epoch 18/50\n",
            "65/65 [==============================] - 7s 102ms/step - loss: 0.0022 - val_loss: 0.5640\n",
            "Epoch 19/50\n",
            "65/65 [==============================] - 7s 105ms/step - loss: 0.0022 - val_loss: 0.5636\n",
            "Epoch 20/50\n",
            "65/65 [==============================] - 7s 101ms/step - loss: 0.0021 - val_loss: 0.5640\n",
            "Epoch 21/50\n",
            "65/65 [==============================] - 7s 101ms/step - loss: 0.0021 - val_loss: 0.5653\n",
            "Epoch 22/50\n",
            "65/65 [==============================] - 7s 101ms/step - loss: 0.0021 - val_loss: 0.5675\n",
            "Epoch 23/50\n",
            "65/65 [==============================] - 7s 101ms/step - loss: 0.0021 - val_loss: 0.5706\n",
            "Epoch 24/50\n",
            "65/65 [==============================] - 6s 99ms/step - loss: 0.0022 - val_loss: 0.5746\n",
            "Epoch 25/50\n",
            "65/65 [==============================] - 6s 100ms/step - loss: 0.0022 - val_loss: 0.5787\n",
            "Epoch 26/50\n",
            "65/65 [==============================] - 7s 109ms/step - loss: 0.0022 - val_loss: 0.5858\n",
            "Epoch 27/50\n",
            "65/65 [==============================] - 7s 109ms/step - loss: 0.0022 - val_loss: 0.5944\n",
            "Epoch 28/50\n",
            "65/65 [==============================] - 7s 107ms/step - loss: 0.0025 - val_loss: 0.6174\n",
            "Epoch 29/50\n",
            "65/65 [==============================] - 7s 101ms/step - loss: 0.0032 - val_loss: 0.6461\n",
            "Epoch 30/50\n",
            "65/65 [==============================] - 7s 109ms/step - loss: 0.0043 - val_loss: 0.6530\n",
            "Epoch 31/50\n",
            "65/65 [==============================] - 7s 106ms/step - loss: 0.0043 - val_loss: 0.6554\n",
            "Epoch 32/50\n",
            "65/65 [==============================] - 7s 112ms/step - loss: 0.0039 - val_loss: 0.6682\n",
            "Epoch 33/50\n",
            "65/65 [==============================] - 7s 108ms/step - loss: 0.0039 - val_loss: 0.6768\n",
            "Epoch 34/50\n",
            "65/65 [==============================] - 7s 105ms/step - loss: 0.0039 - val_loss: 0.6759\n",
            "Epoch 35/50\n",
            "65/65 [==============================] - 7s 106ms/step - loss: 0.0036 - val_loss: 0.6861\n",
            "Epoch 36/50\n",
            "65/65 [==============================] - 7s 101ms/step - loss: 0.0036 - val_loss: 0.6882\n",
            "Epoch 37/50\n",
            "65/65 [==============================] - 7s 101ms/step - loss: 0.0035 - val_loss: 0.6945\n",
            "Epoch 38/50\n",
            "65/65 [==============================] - 7s 102ms/step - loss: 0.0035 - val_loss: 0.6991\n",
            "Epoch 39/50\n",
            "65/65 [==============================] - 8s 118ms/step - loss: 0.0035 - val_loss: 0.7145\n",
            "Epoch 40/50\n",
            "65/65 [==============================] - 7s 102ms/step - loss: 0.0038 - val_loss: 0.7196\n",
            "Epoch 41/50\n",
            "65/65 [==============================] - 7s 103ms/step - loss: 0.0039 - val_loss: 0.7347\n",
            "Epoch 42/50\n",
            "65/65 [==============================] - 7s 102ms/step - loss: 0.0040 - val_loss: 0.7373\n",
            "Epoch 43/50\n",
            "65/65 [==============================] - 7s 101ms/step - loss: 0.0040 - val_loss: 0.7538\n",
            "Epoch 44/50\n",
            "65/65 [==============================] - 7s 101ms/step - loss: 0.0047 - val_loss: 0.7649\n",
            "Epoch 45/50\n",
            "65/65 [==============================] - 6s 98ms/step - loss: 0.0049 - val_loss: 0.7625\n",
            "Epoch 46/50\n",
            "65/65 [==============================] - 6s 99ms/step - loss: 0.0048 - val_loss: 0.7863\n",
            "Epoch 47/50\n",
            "65/65 [==============================] - 6s 98ms/step - loss: 0.0058 - val_loss: 0.7883\n",
            "Epoch 48/50\n",
            "65/65 [==============================] - 6s 98ms/step - loss: 0.0060 - val_loss: 0.7985\n",
            "Epoch 49/50\n",
            "65/65 [==============================] - 7s 101ms/step - loss: 0.0064 - val_loss: 0.8099\n",
            "Epoch 50/50\n",
            "65/65 [==============================] - 6s 99ms/step - loss: 0.0073 - val_loss: 0.8109\n",
            "Model: \"sequential\"\n",
            "_________________________________________________________________\n",
            "Layer (type)                 Output Shape              Param #   \n",
            "=================================================================\n",
            "lstm (LSTM)                  (None, 256)               264192    \n",
            "_________________________________________________________________\n",
            "dense (Dense)                (None, 1)                 257       \n",
            "=================================================================\n",
            "Total params: 264,449\n",
            "Trainable params: 264,449\n",
            "Non-trainable params: 0\n",
            "_________________________________________________________________\n"
          ],
          "name": "stdout"
        }
      ]
    },
    {
      "cell_type": "markdown",
      "metadata": {
        "id": "ioUM6MZoayQr"
      },
      "source": [
        "## 5. validation"
      ]
    },
    {
      "cell_type": "code",
      "metadata": {
        "id": "6-vcvHaHayQr",
        "outputId": "3e67e676-edba-4305-ece9-5f981c01d6e5",
        "colab": {
          "base_uri": "https://localhost:8080/",
          "height": 516
        }
      },
      "source": [
        "plt.figure(figsize=(12,8))\n",
        "Xt = model.predict(X_test)\n",
        "plt.plot(scl.inverse_transform(y_test.reshape(-1,1)), label=\"Actual\")\n",
        "plt.plot(scl.inverse_transform(Xt), label=\"Predicted\")\n",
        "plt.legend()\n",
        "plt.title(\"Test Dataset\")"
      ],
      "execution_count": 12,
      "outputs": [
        {
          "output_type": "execute_result",
          "data": {
            "text/plain": [
              "Text(0.5, 1.0, 'Test Dataset')"
            ]
          },
          "metadata": {
            "tags": []
          },
          "execution_count": 12
        },
        {
          "output_type": "display_data",
          "data": {
            "image/png": "[encoded data removed]",
            "text/plain": [
              "<Figure size 864x576 with 1 Axes>"
            ]
          },
          "metadata": {
            "tags": [],
            "needs_background": "light"
          }
        }
      ]
    },
    {
      "cell_type": "code",
      "metadata": {
        "id": "0hyqLCvzc2oD",
        "outputId": "243994a2-774c-4575-f334-032b31f839ad",
        "colab": {
          "base_uri": "https://localhost:8080/",
          "height": 516
        }
      },
      "source": [
        "X = X.reshape((X.shape[0],X.shape[1],1))\n",
        "y = y.reshape(-1,1)\n",
        "\n",
        "plt.figure(figsize=(20,8))\n",
        "Xp = model.predict(X)\n",
        "plt.plot(scl.inverse_transform(Xp), label=\"Predicted\")\n",
        "plt.plot(scl.inverse_transform(y), label=\"Actual\")\n",
        "plt.legend()\n",
        "plt.title(\"Full Prediction\")"
      ],
      "execution_count": 18,
      "outputs": [
        {
          "output_type": "execute_result",
          "data": {
            "text/plain": [
              "Text(0.5, 1.0, 'Full Prediction')"
            ]
          },
          "metadata": {
            "tags": []
          },
          "execution_count": 18
        },
        {
          "output_type": "display_data",
          "data": {
            "image/png": "[encoded data removed]",
            "text/plain": [
              "<Figure size 1440x576 with 1 Axes>"
            ]
          },
          "metadata": {
            "tags": [],
            "needs_background": "light"
          }
        }
      ]
    },
    {
      "cell_type": "markdown",
      "metadata": {
        "id": "0lq1jdlMayQr"
      },
      "source": [
        "## 6. credit"
      ]
    },
    {
      "cell_type": "markdown",
      "metadata": {
        "id": "y8bCkiZEayQr"
      },
      "source": [
        "### Source: \n",
        "> https://datamahadev.com/how-can-you-use-lstm-for-stock-market-prediction/<br>\n",
        "> https://predictivehacks.com/predict-stock-prices-with-lstm/"
      ]
    },
    {
      "cell_type": "code",
      "metadata": {
        "id": "mWoQnPcsayQr"
      },
      "source": [
        ""
      ],
      "execution_count": null,
      "outputs": []
    }
  ]
}