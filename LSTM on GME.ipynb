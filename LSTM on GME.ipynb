{
 "cells": [
  {
   "cell_type": "markdown",
   "metadata": {},
   "source": [
    "# Implementation of LSTM on GME hourly data"
   ]
  },
  {
   "cell_type": "markdown",
   "metadata": {},
   "source": [
    "## 1. importing required packages"
   ]
  },
  {
   "cell_type": "code",
   "execution_count": 1,
   "metadata": {},
   "outputs": [],
   "source": [
    "import pandas as pd\n",
    "import yfinance as yf\n",
    "import numpy as np\n",
    "import matplotlib.pyplot as plt\n",
    "%matplotlib inline\n",
    "from matplotlib.pylab import rcParams\n",
    "rcParams['figure.figsize']=20,10\n",
    "from keras.models import Sequential\n",
    "from keras.layers import LSTM,Dropout,Dense\n",
    "from sklearn.preprocessing import MinMaxScaler"
   ]
  },
  {
   "cell_type": "markdown",
   "metadata": {},
   "source": [
    "## 2. importing stock data using yahoo! finance API"
   ]
  },
  {
   "cell_type": "code",
   "execution_count": 2,
   "metadata": {},
   "outputs": [
    {
     "data": {
      "text/plain": [
       "<AxesSubplot:xlabel='Date'>"
      ]
     },
     "execution_count": 2,
     "metadata": {},
     "output_type": "execute_result"
    },
    {
     "data": {
      "image/png": "[encoded data removed]",
      "text/plain": [
       "<Figure size 720x720 with 1 Axes>"
      ]
     },
     "metadata": {
      "needs_background": "light"
     },
     "output_type": "display_data"
    }
   ],
   "source": [
    "data = yf.download('GME', start = '2019-06-01', interval = '1h', end = '2021-01-26', progress = False)[['Close']]\n",
    "data.head()\n",
    "  \n",
    "data.plot(figsize = (10, 10))"
   ]
  },
  {
   "cell_type": "code",
   "execution_count": 3,
   "metadata": {},
   "outputs": [
    {
     "data": {
      "text/html": [
       "<div>\n",
       "<style scoped>\n",
       "    .dataframe tbody tr th:only-of-type {\n",
       "        vertical-align: middle;\n",
       "    }\n",
       "\n",
       "    .dataframe tbody tr th {\n",
       "        vertical-align: top;\n",
       "    }\n",
       "\n",
       "    .dataframe thead th {\n",
       "        text-align: right;\n",
       "    }\n",
       "</style>\n",
       "<table border=\"1\" class=\"dataframe\">\n",
       "  <thead>\n",
       "    <tr style=\"text-align: right;\">\n",
       "      <th></th>\n",
       "      <th>Close</th>\n",
       "    </tr>\n",
       "    <tr>\n",
       "      <th>Date</th>\n",
       "      <th></th>\n",
       "    </tr>\n",
       "  </thead>\n",
       "  <tbody>\n",
       "    <tr>\n",
       "      <th>2019-05-31</th>\n",
       "      <td>7.445</td>\n",
       "    </tr>\n",
       "    <tr>\n",
       "      <th>2019-05-31</th>\n",
       "      <td>7.495</td>\n",
       "    </tr>\n",
       "    <tr>\n",
       "      <th>2019-05-31</th>\n",
       "      <td>7.450</td>\n",
       "    </tr>\n",
       "    <tr>\n",
       "      <th>2019-05-31</th>\n",
       "      <td>7.470</td>\n",
       "    </tr>\n",
       "    <tr>\n",
       "      <th>2019-05-31</th>\n",
       "      <td>7.580</td>\n",
       "    </tr>\n",
       "  </tbody>\n",
       "</table>\n",
       "</div>"
      ],
      "text/plain": [
       "            Close\n",
       "Date             \n",
       "2019-05-31  7.445\n",
       "2019-05-31  7.495\n",
       "2019-05-31  7.450\n",
       "2019-05-31  7.470\n",
       "2019-05-31  7.580"
      ]
     },
     "execution_count": 3,
     "metadata": {},
     "output_type": "execute_result"
    }
   ],
   "source": [
    "data.head()"
   ]
  },
  {
   "cell_type": "markdown",
   "metadata": {},
   "source": [
    "## 3. preparing dataset with 60:40 train-to-test ratio"
   ]
  },
  {
   "cell_type": "code",
   "execution_count": 4,
   "metadata": {},
   "outputs": [],
   "source": [
    "prop_train = 0.6\n",
    "\n",
    "cl = data.Close.astype('float32')\n",
    "train = cl[0:int(len(cl)*prop_train)]\n",
    "scl = MinMaxScaler()"
   ]
  },
  {
   "cell_type": "code",
   "execution_count": 5,
   "metadata": {},
   "outputs": [],
   "source": [
    "scl.fit(train.values.reshape(-1,1))\n",
    "cl = scl.transform(cl.values.reshape(-1,1))"
   ]
  },
  {
   "cell_type": "code",
   "execution_count": 6,
   "metadata": {},
   "outputs": [
    {
     "name": "stdout",
     "output_type": "stream",
     "text": [
      "2874 2874\n",
      "1724 20\n",
      "1150 20\n",
      "1724\n",
      "1150\n"
     ]
    }
   ],
   "source": [
    "def processData(data, lb):\n",
    "    X,Y = [],[]\n",
    "    for i in range(len(data)-lb-1):\n",
    "        X.append(data[i:(i+lb), 0])\n",
    "        Y.append(data[(i+lb), 0])\n",
    "    return np.array(X), np.array(Y)\n",
    " \n",
    " \n",
    "lb = 20\n",
    "X, y = processData(cl,lb)\n",
    "X_train,X_test = X[:int(X.shape[0]*prop_train)], X[int(X.shape[0]*prop_train):]\n",
    "y_train,y_test = y[:int(y.shape[0]*prop_train)], y[int(y.shape[0]*prop_train):]\n",
    "print(X.shape[0], y.shape[0])\n",
    "print(X_train.shape[0], X_train.shape[1])\n",
    "print(X_test.shape[0], X_test.shape[1])\n",
    "print(y_train.shape[0])\n",
    "print(y_test.shape[0])"
   ]
  },
  {
   "cell_type": "markdown",
   "metadata": {},
   "source": [
    "## 4. train the model, look back window = 20"
   ]
  },
  {
   "cell_type": "code",
   "execution_count": 7,
   "metadata": {},
   "outputs": [
    {
     "name": "stdout",
     "output_type": "stream",
     "text": [
      "Epoch 1/50\n",
      "54/54 [==============================] - 6s 67ms/step - loss: 0.0487 - val_loss: 1.3846\n",
      "Epoch 2/50\n",
      "54/54 [==============================] - 2s 39ms/step - loss: 0.0070 - val_loss: 1.5350\n",
      "Epoch 3/50\n",
      "54/54 [==============================] - 2s 40ms/step - loss: 0.0075 - val_loss: 1.2668\n",
      "Epoch 4/50\n",
      "54/54 [==============================] - 2s 40ms/step - loss: 0.0055 - val_loss: 1.0481\n",
      "Epoch 5/50\n",
      "54/54 [==============================] - 2s 43ms/step - loss: 0.0042 - val_loss: 0.8918\n",
      "Epoch 6/50\n",
      "54/54 [==============================] - 2s 41ms/step - loss: 0.0034 - val_loss: 0.7897\n",
      "Epoch 7/50\n",
      "54/54 [==============================] - 2s 40ms/step - loss: 0.0029 - val_loss: 0.7298\n",
      "Epoch 8/50\n",
      "54/54 [==============================] - 2s 40ms/step - loss: 0.0027 - val_loss: 0.6963\n",
      "Epoch 9/50\n",
      "54/54 [==============================] - 2s 40ms/step - loss: 0.0026 - val_loss: 0.6809\n",
      "Epoch 10/50\n",
      "54/54 [==============================] - 2s 40ms/step - loss: 0.0025 - val_loss: 0.6768\n",
      "Epoch 11/50\n",
      "54/54 [==============================] - 2s 41ms/step - loss: 0.0025 - val_loss: 0.6794\n",
      "Epoch 12/50\n",
      "54/54 [==============================] - 2s 40ms/step - loss: 0.0024 - val_loss: 0.6859\n",
      "Epoch 13/50\n",
      "54/54 [==============================] - 2s 40ms/step - loss: 0.0024 - val_loss: 0.6951\n",
      "Epoch 14/50\n",
      "54/54 [==============================] - 2s 40ms/step - loss: 0.0024 - val_loss: 0.7057\n",
      "Epoch 15/50\n",
      "54/54 [==============================] - 2s 40ms/step - loss: 0.0024 - val_loss: 0.7186\n",
      "Epoch 16/50\n",
      "54/54 [==============================] - 2s 41ms/step - loss: 0.0024 - val_loss: 0.7379\n",
      "Epoch 17/50\n",
      "54/54 [==============================] - 2s 41ms/step - loss: 0.0023 - val_loss: 0.7512\n",
      "Epoch 18/50\n",
      "54/54 [==============================] - 2s 42ms/step - loss: 0.0023 - val_loss: 0.7527\n",
      "Epoch 19/50\n",
      "54/54 [==============================] - 2s 40ms/step - loss: 0.0022 - val_loss: 0.7563\n",
      "Epoch 20/50\n",
      "54/54 [==============================] - 2s 39ms/step - loss: 0.0021 - val_loss: 0.7659\n",
      "Epoch 21/50\n",
      "54/54 [==============================] - 2s 40ms/step - loss: 0.0021 - val_loss: 0.7641\n",
      "Epoch 22/50\n",
      "54/54 [==============================] - 2s 39ms/step - loss: 0.0020 - val_loss: 0.7621\n",
      "Epoch 23/50\n",
      "54/54 [==============================] - 2s 40ms/step - loss: 0.0019 - val_loss: 0.7581\n",
      "Epoch 24/50\n",
      "54/54 [==============================] - 2s 41ms/step - loss: 0.0018 - val_loss: 0.7521\n",
      "Epoch 25/50\n",
      "54/54 [==============================] - 2s 42ms/step - loss: 0.0018 - val_loss: 0.7455\n",
      "Epoch 26/50\n",
      "54/54 [==============================] - 2s 43ms/step - loss: 0.0017 - val_loss: 0.7373\n",
      "Epoch 27/50\n",
      "54/54 [==============================] - 2s 43ms/step - loss: 0.0016 - val_loss: 0.7290\n",
      "Epoch 28/50\n",
      "54/54 [==============================] - 2s 45ms/step - loss: 0.0015 - val_loss: 0.7193\n",
      "Epoch 29/50\n",
      "54/54 [==============================] - 2s 44ms/step - loss: 0.0015 - val_loss: 0.7087\n",
      "Epoch 30/50\n",
      "54/54 [==============================] - 2s 44ms/step - loss: 0.0014 - val_loss: 0.6987\n",
      "Epoch 31/50\n",
      "54/54 [==============================] - 2s 42ms/step - loss: 0.0014 - val_loss: 0.6882\n",
      "Epoch 32/50\n",
      "54/54 [==============================] - 2s 45ms/step - loss: 0.0013 - val_loss: 0.6772\n",
      "Epoch 33/50\n",
      "54/54 [==============================] - 2s 45ms/step - loss: 0.0013 - val_loss: 0.6667\n",
      "Epoch 34/50\n",
      "54/54 [==============================] - 3s 48ms/step - loss: 0.0012 - val_loss: 0.6566\n",
      "Epoch 35/50\n",
      "54/54 [==============================] - 3s 47ms/step - loss: 0.0012 - val_loss: 0.6465\n",
      "Epoch 36/50\n",
      "54/54 [==============================] - 3s 51ms/step - loss: 0.0012 - val_loss: 0.6362\n",
      "Epoch 37/50\n",
      "54/54 [==============================] - 3s 48ms/step - loss: 0.0011 - val_loss: 0.6254\n",
      "Epoch 38/50\n",
      "54/54 [==============================] - 2s 46ms/step - loss: 0.0011 - val_loss: 0.6141\n",
      "Epoch 39/50\n",
      "54/54 [==============================] - 2s 43ms/step - loss: 0.0011 - val_loss: 0.6025\n",
      "Epoch 40/50\n",
      "54/54 [==============================] - 2s 42ms/step - loss: 0.0010 - val_loss: 0.5911\n",
      "Epoch 41/50\n",
      "54/54 [==============================] - 2s 42ms/step - loss: 0.0010 - val_loss: 0.5802\n",
      "Epoch 42/50\n",
      "54/54 [==============================] - 2s 42ms/step - loss: 9.7587e-04 - val_loss: 0.5702\n",
      "Epoch 43/50\n",
      "54/54 [==============================] - 2s 46ms/step - loss: 9.5186e-04 - val_loss: 0.5613\n",
      "Epoch 44/50\n",
      "54/54 [==============================] - 2s 43ms/step - loss: 9.3187e-04 - val_loss: 0.5545\n",
      "Epoch 45/50\n",
      "54/54 [==============================] - 2s 44ms/step - loss: 9.1899e-04 - val_loss: 0.5504\n",
      "Epoch 46/50\n",
      "54/54 [==============================] - 2s 42ms/step - loss: 9.1022e-04 - val_loss: 0.5461\n",
      "Epoch 47/50\n",
      "54/54 [==============================] - 2s 44ms/step - loss: 8.9764e-04 - val_loss: 0.5439\n",
      "Epoch 48/50\n",
      "54/54 [==============================] - 3s 47ms/step - loss: 8.9426e-04 - val_loss: 0.5419\n",
      "Epoch 49/50\n",
      "54/54 [==============================] - 2s 45ms/step - loss: 8.8532e-04 - val_loss: 0.5420\n",
      "Epoch 50/50\n",
      "54/54 [==============================] - 2s 44ms/step - loss: 8.9477e-04 - val_loss: 0.5427\n",
      "Model: \"sequential\"\n",
      "_________________________________________________________________\n",
      "Layer (type)                 Output Shape              Param #   \n",
      "=================================================================\n",
      "lstm (LSTM)                  (None, 256)               264192    \n",
      "_________________________________________________________________\n",
      "dense (Dense)                (None, 1)                 257       \n",
      "=================================================================\n",
      "Total params: 264,449\n",
      "Trainable params: 264,449\n",
      "Non-trainable params: 0\n",
      "_________________________________________________________________\n"
     ]
    }
   ],
   "source": [
    "#Build the model\n",
    "model = Sequential()\n",
    "model.add(LSTM(256,input_shape=(lb,1)))\n",
    "model.add(Dense(1))\n",
    "model.compile(optimizer='adam',loss='mse')\n",
    " \n",
    "#Reshape data for (Sample,Timestep,Features) \n",
    "X_train = X_train.reshape((X_train.shape[0],X_train.shape[1],1))\n",
    "X_test = X_test.reshape((X_test.shape[0],X_test.shape[1],1))\n",
    " \n",
    "#Fit model with history to check for overfitting\n",
    "history = model.fit(X_train,y_train,epochs=50,validation_data=(X_test,y_test),shuffle=False)\n",
    " \n",
    "model.summary() "
   ]
  },
  {
   "cell_type": "markdown",
   "metadata": {},
   "source": [
    "## 5. validation"
   ]
  },
  {
   "cell_type": "code",
   "execution_count": 8,
   "metadata": {},
   "outputs": [
    {
     "data": {
      "text/plain": [
       "Text(0.5, 1.0, 'Test Dataset')"
      ]
     },
     "execution_count": 8,
     "metadata": {},
     "output_type": "execute_result"
    },
    {
     "data": {
      "image/png": "[encoded data removed]",
      "text/plain": [
       "<Figure size 864x576 with 1 Axes>"
      ]
     },
     "metadata": {
      "needs_background": "light"
     },
     "output_type": "display_data"
    }
   ],
   "source": [
    "plt.figure(figsize=(12,8))\n",
    "Xt = model.predict(X_test)\n",
    "plt.plot(scl.inverse_transform(y_test.reshape(-1,1)), label=\"Actual\")\n",
    "plt.plot(scl.inverse_transform(Xt), label=\"Predicted\")\n",
    "plt.legend()\n",
    "plt.title(\"Test Dataset\")"
   ]
  },
  {
   "cell_type": "markdown",
   "metadata": {},
   "source": [
    "## 6. credit"
   ]
  },
  {
   "cell_type": "markdown",
   "metadata": {},
   "source": [
    "### Source: \n",
    "> https://datamahadev.com/how-can-you-use-lstm-for-stock-market-prediction/<br>\n",
    "> https://predictivehacks.com/predict-stock-prices-with-lstm/"
   ]
  },
  {
   "cell_type": "code",
   "execution_count": null,
   "metadata": {},
   "outputs": [],
   "source": []
  }
 ],
 "metadata": {
  "kernelspec": {
   "display_name": "Python 3",
   "language": "python",
   "name": "python3"
  },
  "language_info": {
   "codemirror_mode": {
    "name": "ipython",
    "version": 3
   },
   "file_extension": ".py",
   "mimetype": "text/x-python",
   "name": "python",
   "nbconvert_exporter": "python",
   "pygments_lexer": "ipython3",
   "version": "3.8.5"
  }
 },
 "nbformat": 4,
 "nbformat_minor": 4
}
